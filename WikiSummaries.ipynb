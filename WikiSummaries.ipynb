{
  "cells": [
    {
      "cell_type": "markdown",
      "source": [
        "#Wikipedia movie plots - Drama or comedy?\n",
        "\n",
        "dataset from https://www.kaggle.com/datasets/jrobischon/wikipedia-movie-plots\n",
        "\n",
        "Data scraped from wikipedia summaries of movie plots around the world. We will drop all of them aside from dramas and comedies. "
      ],
      "metadata": {
        "id": "lgu2MgSiqsip"
      }
    },
    {
      "cell_type": "code",
      "source": [
        "from google.colab import files\n",
        "uploaded = files.upload()"
      ],
      "metadata": {
        "colab": {
          "base_uri": "https://localhost:8080/",
          "height": 37
        },
        "id": "t6USAFehq6i-",
        "outputId": "758b687b-68d6-4edc-e2f2-3e203bdcf455"
      },
      "execution_count": 69,
      "outputs": [
        {
          "output_type": "display_data",
          "data": {
            "text/plain": [
              "<IPython.core.display.HTML object>"
            ],
            "text/html": [
              "\n",
              "     <input type=\"file\" id=\"files-fd2d95ee-7951-4c67-8c3c-8678b5bd0aa6\" name=\"files[]\" multiple disabled\n",
              "        style=\"border:none\" />\n",
              "     <output id=\"result-fd2d95ee-7951-4c67-8c3c-8678b5bd0aa6\">\n",
              "      Upload widget is only available when the cell has been executed in the\n",
              "      current browser session. Please rerun this cell to enable.\n",
              "      </output>\n",
              "      <script>// Copyright 2017 Google LLC\n",
              "//\n",
              "// Licensed under the Apache License, Version 2.0 (the \"License\");\n",
              "// you may not use this file except in compliance with the License.\n",
              "// You may obtain a copy of the License at\n",
              "//\n",
              "//      http://www.apache.org/licenses/LICENSE-2.0\n",
              "//\n",
              "// Unless required by applicable law or agreed to in writing, software\n",
              "// distributed under the License is distributed on an \"AS IS\" BASIS,\n",
              "// WITHOUT WARRANTIES OR CONDITIONS OF ANY KIND, either express or implied.\n",
              "// See the License for the specific language governing permissions and\n",
              "// limitations under the License.\n",
              "\n",
              "/**\n",
              " * @fileoverview Helpers for google.colab Python module.\n",
              " */\n",
              "(function(scope) {\n",
              "function span(text, styleAttributes = {}) {\n",
              "  const element = document.createElement('span');\n",
              "  element.textContent = text;\n",
              "  for (const key of Object.keys(styleAttributes)) {\n",
              "    element.style[key] = styleAttributes[key];\n",
              "  }\n",
              "  return element;\n",
              "}\n",
              "\n",
              "// Max number of bytes which will be uploaded at a time.\n",
              "const MAX_PAYLOAD_SIZE = 100 * 1024;\n",
              "\n",
              "function _uploadFiles(inputId, outputId) {\n",
              "  const steps = uploadFilesStep(inputId, outputId);\n",
              "  const outputElement = document.getElementById(outputId);\n",
              "  // Cache steps on the outputElement to make it available for the next call\n",
              "  // to uploadFilesContinue from Python.\n",
              "  outputElement.steps = steps;\n",
              "\n",
              "  return _uploadFilesContinue(outputId);\n",
              "}\n",
              "\n",
              "// This is roughly an async generator (not supported in the browser yet),\n",
              "// where there are multiple asynchronous steps and the Python side is going\n",
              "// to poll for completion of each step.\n",
              "// This uses a Promise to block the python side on completion of each step,\n",
              "// then passes the result of the previous step as the input to the next step.\n",
              "function _uploadFilesContinue(outputId) {\n",
              "  const outputElement = document.getElementById(outputId);\n",
              "  const steps = outputElement.steps;\n",
              "\n",
              "  const next = steps.next(outputElement.lastPromiseValue);\n",
              "  return Promise.resolve(next.value.promise).then((value) => {\n",
              "    // Cache the last promise value to make it available to the next\n",
              "    // step of the generator.\n",
              "    outputElement.lastPromiseValue = value;\n",
              "    return next.value.response;\n",
              "  });\n",
              "}\n",
              "\n",
              "/**\n",
              " * Generator function which is called between each async step of the upload\n",
              " * process.\n",
              " * @param {string} inputId Element ID of the input file picker element.\n",
              " * @param {string} outputId Element ID of the output display.\n",
              " * @return {!Iterable<!Object>} Iterable of next steps.\n",
              " */\n",
              "function* uploadFilesStep(inputId, outputId) {\n",
              "  const inputElement = document.getElementById(inputId);\n",
              "  inputElement.disabled = false;\n",
              "\n",
              "  const outputElement = document.getElementById(outputId);\n",
              "  outputElement.innerHTML = '';\n",
              "\n",
              "  const pickedPromise = new Promise((resolve) => {\n",
              "    inputElement.addEventListener('change', (e) => {\n",
              "      resolve(e.target.files);\n",
              "    });\n",
              "  });\n",
              "\n",
              "  const cancel = document.createElement('button');\n",
              "  inputElement.parentElement.appendChild(cancel);\n",
              "  cancel.textContent = 'Cancel upload';\n",
              "  const cancelPromise = new Promise((resolve) => {\n",
              "    cancel.onclick = () => {\n",
              "      resolve(null);\n",
              "    };\n",
              "  });\n",
              "\n",
              "  // Wait for the user to pick the files.\n",
              "  const files = yield {\n",
              "    promise: Promise.race([pickedPromise, cancelPromise]),\n",
              "    response: {\n",
              "      action: 'starting',\n",
              "    }\n",
              "  };\n",
              "\n",
              "  cancel.remove();\n",
              "\n",
              "  // Disable the input element since further picks are not allowed.\n",
              "  inputElement.disabled = true;\n",
              "\n",
              "  if (!files) {\n",
              "    return {\n",
              "      response: {\n",
              "        action: 'complete',\n",
              "      }\n",
              "    };\n",
              "  }\n",
              "\n",
              "  for (const file of files) {\n",
              "    const li = document.createElement('li');\n",
              "    li.append(span(file.name, {fontWeight: 'bold'}));\n",
              "    li.append(span(\n",
              "        `(${file.type || 'n/a'}) - ${file.size} bytes, ` +\n",
              "        `last modified: ${\n",
              "            file.lastModifiedDate ? file.lastModifiedDate.toLocaleDateString() :\n",
              "                                    'n/a'} - `));\n",
              "    const percent = span('0% done');\n",
              "    li.appendChild(percent);\n",
              "\n",
              "    outputElement.appendChild(li);\n",
              "\n",
              "    const fileDataPromise = new Promise((resolve) => {\n",
              "      const reader = new FileReader();\n",
              "      reader.onload = (e) => {\n",
              "        resolve(e.target.result);\n",
              "      };\n",
              "      reader.readAsArrayBuffer(file);\n",
              "    });\n",
              "    // Wait for the data to be ready.\n",
              "    let fileData = yield {\n",
              "      promise: fileDataPromise,\n",
              "      response: {\n",
              "        action: 'continue',\n",
              "      }\n",
              "    };\n",
              "\n",
              "    // Use a chunked sending to avoid message size limits. See b/62115660.\n",
              "    let position = 0;\n",
              "    do {\n",
              "      const length = Math.min(fileData.byteLength - position, MAX_PAYLOAD_SIZE);\n",
              "      const chunk = new Uint8Array(fileData, position, length);\n",
              "      position += length;\n",
              "\n",
              "      const base64 = btoa(String.fromCharCode.apply(null, chunk));\n",
              "      yield {\n",
              "        response: {\n",
              "          action: 'append',\n",
              "          file: file.name,\n",
              "          data: base64,\n",
              "        },\n",
              "      };\n",
              "\n",
              "      let percentDone = fileData.byteLength === 0 ?\n",
              "          100 :\n",
              "          Math.round((position / fileData.byteLength) * 100);\n",
              "      percent.textContent = `${percentDone}% done`;\n",
              "\n",
              "    } while (position < fileData.byteLength);\n",
              "  }\n",
              "\n",
              "  // All done.\n",
              "  yield {\n",
              "    response: {\n",
              "      action: 'complete',\n",
              "    }\n",
              "  };\n",
              "}\n",
              "\n",
              "scope.google = scope.google || {};\n",
              "scope.google.colab = scope.google.colab || {};\n",
              "scope.google.colab._files = {\n",
              "  _uploadFiles,\n",
              "  _uploadFilesContinue,\n",
              "};\n",
              "})(self);\n",
              "</script> "
            ]
          },
          "metadata": {}
        }
      ]
    },
    {
      "cell_type": "code",
      "source": [
        "import pandas as pd\n",
        "df = pd.read_csv('wiki_movie_plots_deduped.csv')"
      ],
      "metadata": {
        "id": "6p_ho1IgrTOM"
      },
      "execution_count": 70,
      "outputs": []
    },
    {
      "cell_type": "code",
      "source": [
        "df.tail()"
      ],
      "metadata": {
        "colab": {
          "base_uri": "https://localhost:8080/",
          "height": 337
        },
        "id": "2odcz5FqrfsE",
        "outputId": "48366123-3122-4c90-dc95-6bd6cf4b15ce"
      },
      "execution_count": 71,
      "outputs": [
        {
          "output_type": "execute_result",
          "data": {
            "text/plain": [
              "       Release Year               Title Origin/Ethnicity  \\\n",
              "34881          2014   The Water Diviner          Turkish   \n",
              "34882          2017  Çalgı Çengi İkimiz          Turkish   \n",
              "34883          2017        Olanlar Oldu          Turkish   \n",
              "34884          2017    Non-Transferable          Turkish   \n",
              "34885          2017  İstanbul Kırmızısı          Turkish   \n",
              "\n",
              "                      Director  \\\n",
              "34881  Director: Russell Crowe   \n",
              "34882           Selçuk Aydemir   \n",
              "34883              Hakan Algül   \n",
              "34884          Brendan Bradley   \n",
              "34885           Ferzan Özpetek   \n",
              "\n",
              "                                                    Cast            Genre  \\\n",
              "34881  Director: Russell Crowe\\r\\nCast: Russell Crowe...          unknown   \n",
              "34882                          Ahmet Kural, Murat Cemcir           comedy   \n",
              "34883              Ata Demirer, Tuvana Türkay, Ülkü Duru           comedy   \n",
              "34884  YouTubers Shanna Malcolm, Shira Lazar, Sara Fl...  romantic comedy   \n",
              "34885  Halit Ergenç, Tuba Büyüküstün, Mehmet Günsür, ...         romantic   \n",
              "\n",
              "                                               Wiki Page  \\\n",
              "34881    https://en.wikipedia.org/wiki/The_Water_Diviner   \n",
              "34882  https://en.wikipedia.org/wiki/%C3%87alg%C4%B1_...   \n",
              "34883         https://en.wikipedia.org/wiki/Olanlar_Oldu   \n",
              "34884  https://en.wikipedia.org/wiki/Non-Transferable...   \n",
              "34885  https://en.wikipedia.org/wiki/%C4%B0stanbul_K%...   \n",
              "\n",
              "                                                    Plot  \n",
              "34881  The film begins in 1919, just after World War ...  \n",
              "34882  Two musicians, Salih and Gürkan, described the...  \n",
              "34883  Zafer, a sailor living with his mother Döndü i...  \n",
              "34884  The film centres around a young woman named Am...  \n",
              "34885  The writer Orhan Şahin returns to İstanbul aft...  "
            ],
            "text/html": [
              "\n",
              "  <div id=\"df-c49b58ad-2ff0-43e0-b61c-95a4ea281ee3\">\n",
              "    <div class=\"colab-df-container\">\n",
              "      <div>\n",
              "<style scoped>\n",
              "    .dataframe tbody tr th:only-of-type {\n",
              "        vertical-align: middle;\n",
              "    }\n",
              "\n",
              "    .dataframe tbody tr th {\n",
              "        vertical-align: top;\n",
              "    }\n",
              "\n",
              "    .dataframe thead th {\n",
              "        text-align: right;\n",
              "    }\n",
              "</style>\n",
              "<table border=\"1\" class=\"dataframe\">\n",
              "  <thead>\n",
              "    <tr style=\"text-align: right;\">\n",
              "      <th></th>\n",
              "      <th>Release Year</th>\n",
              "      <th>Title</th>\n",
              "      <th>Origin/Ethnicity</th>\n",
              "      <th>Director</th>\n",
              "      <th>Cast</th>\n",
              "      <th>Genre</th>\n",
              "      <th>Wiki Page</th>\n",
              "      <th>Plot</th>\n",
              "    </tr>\n",
              "  </thead>\n",
              "  <tbody>\n",
              "    <tr>\n",
              "      <th>34881</th>\n",
              "      <td>2014</td>\n",
              "      <td>The Water Diviner</td>\n",
              "      <td>Turkish</td>\n",
              "      <td>Director: Russell Crowe</td>\n",
              "      <td>Director: Russell Crowe\\r\\nCast: Russell Crowe...</td>\n",
              "      <td>unknown</td>\n",
              "      <td>https://en.wikipedia.org/wiki/The_Water_Diviner</td>\n",
              "      <td>The film begins in 1919, just after World War ...</td>\n",
              "    </tr>\n",
              "    <tr>\n",
              "      <th>34882</th>\n",
              "      <td>2017</td>\n",
              "      <td>Çalgı Çengi İkimiz</td>\n",
              "      <td>Turkish</td>\n",
              "      <td>Selçuk Aydemir</td>\n",
              "      <td>Ahmet Kural, Murat Cemcir</td>\n",
              "      <td>comedy</td>\n",
              "      <td>https://en.wikipedia.org/wiki/%C3%87alg%C4%B1_...</td>\n",
              "      <td>Two musicians, Salih and Gürkan, described the...</td>\n",
              "    </tr>\n",
              "    <tr>\n",
              "      <th>34883</th>\n",
              "      <td>2017</td>\n",
              "      <td>Olanlar Oldu</td>\n",
              "      <td>Turkish</td>\n",
              "      <td>Hakan Algül</td>\n",
              "      <td>Ata Demirer, Tuvana Türkay, Ülkü Duru</td>\n",
              "      <td>comedy</td>\n",
              "      <td>https://en.wikipedia.org/wiki/Olanlar_Oldu</td>\n",
              "      <td>Zafer, a sailor living with his mother Döndü i...</td>\n",
              "    </tr>\n",
              "    <tr>\n",
              "      <th>34884</th>\n",
              "      <td>2017</td>\n",
              "      <td>Non-Transferable</td>\n",
              "      <td>Turkish</td>\n",
              "      <td>Brendan Bradley</td>\n",
              "      <td>YouTubers Shanna Malcolm, Shira Lazar, Sara Fl...</td>\n",
              "      <td>romantic comedy</td>\n",
              "      <td>https://en.wikipedia.org/wiki/Non-Transferable...</td>\n",
              "      <td>The film centres around a young woman named Am...</td>\n",
              "    </tr>\n",
              "    <tr>\n",
              "      <th>34885</th>\n",
              "      <td>2017</td>\n",
              "      <td>İstanbul Kırmızısı</td>\n",
              "      <td>Turkish</td>\n",
              "      <td>Ferzan Özpetek</td>\n",
              "      <td>Halit Ergenç, Tuba Büyüküstün, Mehmet Günsür, ...</td>\n",
              "      <td>romantic</td>\n",
              "      <td>https://en.wikipedia.org/wiki/%C4%B0stanbul_K%...</td>\n",
              "      <td>The writer Orhan Şahin returns to İstanbul aft...</td>\n",
              "    </tr>\n",
              "  </tbody>\n",
              "</table>\n",
              "</div>\n",
              "      <button class=\"colab-df-convert\" onclick=\"convertToInteractive('df-c49b58ad-2ff0-43e0-b61c-95a4ea281ee3')\"\n",
              "              title=\"Convert this dataframe to an interactive table.\"\n",
              "              style=\"display:none;\">\n",
              "        \n",
              "  <svg xmlns=\"http://www.w3.org/2000/svg\" height=\"24px\"viewBox=\"0 0 24 24\"\n",
              "       width=\"24px\">\n",
              "    <path d=\"M0 0h24v24H0V0z\" fill=\"none\"/>\n",
              "    <path d=\"M18.56 5.44l.94 2.06.94-2.06 2.06-.94-2.06-.94-.94-2.06-.94 2.06-2.06.94zm-11 1L8.5 8.5l.94-2.06 2.06-.94-2.06-.94L8.5 2.5l-.94 2.06-2.06.94zm10 10l.94 2.06.94-2.06 2.06-.94-2.06-.94-.94-2.06-.94 2.06-2.06.94z\"/><path d=\"M17.41 7.96l-1.37-1.37c-.4-.4-.92-.59-1.43-.59-.52 0-1.04.2-1.43.59L10.3 9.45l-7.72 7.72c-.78.78-.78 2.05 0 2.83L4 21.41c.39.39.9.59 1.41.59.51 0 1.02-.2 1.41-.59l7.78-7.78 2.81-2.81c.8-.78.8-2.07 0-2.86zM5.41 20L4 18.59l7.72-7.72 1.47 1.35L5.41 20z\"/>\n",
              "  </svg>\n",
              "      </button>\n",
              "      \n",
              "  <style>\n",
              "    .colab-df-container {\n",
              "      display:flex;\n",
              "      flex-wrap:wrap;\n",
              "      gap: 12px;\n",
              "    }\n",
              "\n",
              "    .colab-df-convert {\n",
              "      background-color: #E8F0FE;\n",
              "      border: none;\n",
              "      border-radius: 50%;\n",
              "      cursor: pointer;\n",
              "      display: none;\n",
              "      fill: #1967D2;\n",
              "      height: 32px;\n",
              "      padding: 0 0 0 0;\n",
              "      width: 32px;\n",
              "    }\n",
              "\n",
              "    .colab-df-convert:hover {\n",
              "      background-color: #E2EBFA;\n",
              "      box-shadow: 0px 1px 2px rgba(60, 64, 67, 0.3), 0px 1px 3px 1px rgba(60, 64, 67, 0.15);\n",
              "      fill: #174EA6;\n",
              "    }\n",
              "\n",
              "    [theme=dark] .colab-df-convert {\n",
              "      background-color: #3B4455;\n",
              "      fill: #D2E3FC;\n",
              "    }\n",
              "\n",
              "    [theme=dark] .colab-df-convert:hover {\n",
              "      background-color: #434B5C;\n",
              "      box-shadow: 0px 1px 3px 1px rgba(0, 0, 0, 0.15);\n",
              "      filter: drop-shadow(0px 1px 2px rgba(0, 0, 0, 0.3));\n",
              "      fill: #FFFFFF;\n",
              "    }\n",
              "  </style>\n",
              "\n",
              "      <script>\n",
              "        const buttonEl =\n",
              "          document.querySelector('#df-c49b58ad-2ff0-43e0-b61c-95a4ea281ee3 button.colab-df-convert');\n",
              "        buttonEl.style.display =\n",
              "          google.colab.kernel.accessAllowed ? 'block' : 'none';\n",
              "\n",
              "        async function convertToInteractive(key) {\n",
              "          const element = document.querySelector('#df-c49b58ad-2ff0-43e0-b61c-95a4ea281ee3');\n",
              "          const dataTable =\n",
              "            await google.colab.kernel.invokeFunction('convertToInteractive',\n",
              "                                                     [key], {});\n",
              "          if (!dataTable) return;\n",
              "\n",
              "          const docLinkHtml = 'Like what you see? Visit the ' +\n",
              "            '<a target=\"_blank\" href=https://colab.research.google.com/notebooks/data_table.ipynb>data table notebook</a>'\n",
              "            + ' to learn more about interactive tables.';\n",
              "          element.innerHTML = '';\n",
              "          dataTable['output_type'] = 'display_data';\n",
              "          await google.colab.output.renderOutput(dataTable, element);\n",
              "          const docLink = document.createElement('div');\n",
              "          docLink.innerHTML = docLinkHtml;\n",
              "          element.appendChild(docLink);\n",
              "        }\n",
              "      </script>\n",
              "    </div>\n",
              "  </div>\n",
              "  "
            ]
          },
          "metadata": {},
          "execution_count": 71
        }
      ]
    },
    {
      "cell_type": "markdown",
      "source": [
        "We dont need most of this, lets simplify it.\n",
        "We will remove all but the sentiment column and text collumn, and change it so sentiment either holds 1 for negative or 0 for anything else"
      ],
      "metadata": {
        "id": "PCC-vDRssUUM"
      }
    },
    {
      "cell_type": "code",
      "source": [
        "# Select only the 'Genre' and 'Plot' columns\n",
        "df = df[['Genre', 'Plot']]\n",
        "\n",
        "# Remove any columns that have null values\n",
        "df = df.dropna(axis=1)\n",
        "\n",
        "# Map 'comedy' to 1 and 'drama' to 0 in the 'Genre' column\n",
        "df.loc[df['Genre'] == 'comedy', 'Genre'] = 1\n",
        "df.loc[df['Genre'] == 'drama', 'Genre'] = 0\n",
        "\n",
        "# Filter rows where the 'Genre' column contains either '0' or '1'\n",
        "df = df[df['Genre'].isin([0, 1])]\n",
        "\n",
        "# Convert the 'Genre' column to integer\n",
        "df['Genre'] = df['Genre'].astype(int)\n",
        "\n",
        "df.head()"
      ],
      "metadata": {
        "colab": {
          "base_uri": "https://localhost:8080/",
          "height": 206
        },
        "id": "V47Z0inJs5bV",
        "outputId": "6b6e6f6f-efbd-42fb-f2df-97c9a8022610"
      },
      "execution_count": 72,
      "outputs": [
        {
          "output_type": "execute_result",
          "data": {
            "text/plain": [
              "    Genre                                               Plot\n",
              "7       1  The film is about a family who move to the sub...\n",
              "14      1  Before heading out to a baseball game at a nea...\n",
              "15      1  The plot is that of a black woman going to the...\n",
              "16      0  On a beautiful summer day a father and mother ...\n",
              "17      0  A thug accosts a girl as she leaves her workpl..."
            ],
            "text/html": [
              "\n",
              "  <div id=\"df-76aa37ee-22e3-4f32-b8c3-52dc23749d63\">\n",
              "    <div class=\"colab-df-container\">\n",
              "      <div>\n",
              "<style scoped>\n",
              "    .dataframe tbody tr th:only-of-type {\n",
              "        vertical-align: middle;\n",
              "    }\n",
              "\n",
              "    .dataframe tbody tr th {\n",
              "        vertical-align: top;\n",
              "    }\n",
              "\n",
              "    .dataframe thead th {\n",
              "        text-align: right;\n",
              "    }\n",
              "</style>\n",
              "<table border=\"1\" class=\"dataframe\">\n",
              "  <thead>\n",
              "    <tr style=\"text-align: right;\">\n",
              "      <th></th>\n",
              "      <th>Genre</th>\n",
              "      <th>Plot</th>\n",
              "    </tr>\n",
              "  </thead>\n",
              "  <tbody>\n",
              "    <tr>\n",
              "      <th>7</th>\n",
              "      <td>1</td>\n",
              "      <td>The film is about a family who move to the sub...</td>\n",
              "    </tr>\n",
              "    <tr>\n",
              "      <th>14</th>\n",
              "      <td>1</td>\n",
              "      <td>Before heading out to a baseball game at a nea...</td>\n",
              "    </tr>\n",
              "    <tr>\n",
              "      <th>15</th>\n",
              "      <td>1</td>\n",
              "      <td>The plot is that of a black woman going to the...</td>\n",
              "    </tr>\n",
              "    <tr>\n",
              "      <th>16</th>\n",
              "      <td>0</td>\n",
              "      <td>On a beautiful summer day a father and mother ...</td>\n",
              "    </tr>\n",
              "    <tr>\n",
              "      <th>17</th>\n",
              "      <td>0</td>\n",
              "      <td>A thug accosts a girl as she leaves her workpl...</td>\n",
              "    </tr>\n",
              "  </tbody>\n",
              "</table>\n",
              "</div>\n",
              "      <button class=\"colab-df-convert\" onclick=\"convertToInteractive('df-76aa37ee-22e3-4f32-b8c3-52dc23749d63')\"\n",
              "              title=\"Convert this dataframe to an interactive table.\"\n",
              "              style=\"display:none;\">\n",
              "        \n",
              "  <svg xmlns=\"http://www.w3.org/2000/svg\" height=\"24px\"viewBox=\"0 0 24 24\"\n",
              "       width=\"24px\">\n",
              "    <path d=\"M0 0h24v24H0V0z\" fill=\"none\"/>\n",
              "    <path d=\"M18.56 5.44l.94 2.06.94-2.06 2.06-.94-2.06-.94-.94-2.06-.94 2.06-2.06.94zm-11 1L8.5 8.5l.94-2.06 2.06-.94-2.06-.94L8.5 2.5l-.94 2.06-2.06.94zm10 10l.94 2.06.94-2.06 2.06-.94-2.06-.94-.94-2.06-.94 2.06-2.06.94z\"/><path d=\"M17.41 7.96l-1.37-1.37c-.4-.4-.92-.59-1.43-.59-.52 0-1.04.2-1.43.59L10.3 9.45l-7.72 7.72c-.78.78-.78 2.05 0 2.83L4 21.41c.39.39.9.59 1.41.59.51 0 1.02-.2 1.41-.59l7.78-7.78 2.81-2.81c.8-.78.8-2.07 0-2.86zM5.41 20L4 18.59l7.72-7.72 1.47 1.35L5.41 20z\"/>\n",
              "  </svg>\n",
              "      </button>\n",
              "      \n",
              "  <style>\n",
              "    .colab-df-container {\n",
              "      display:flex;\n",
              "      flex-wrap:wrap;\n",
              "      gap: 12px;\n",
              "    }\n",
              "\n",
              "    .colab-df-convert {\n",
              "      background-color: #E8F0FE;\n",
              "      border: none;\n",
              "      border-radius: 50%;\n",
              "      cursor: pointer;\n",
              "      display: none;\n",
              "      fill: #1967D2;\n",
              "      height: 32px;\n",
              "      padding: 0 0 0 0;\n",
              "      width: 32px;\n",
              "    }\n",
              "\n",
              "    .colab-df-convert:hover {\n",
              "      background-color: #E2EBFA;\n",
              "      box-shadow: 0px 1px 2px rgba(60, 64, 67, 0.3), 0px 1px 3px 1px rgba(60, 64, 67, 0.15);\n",
              "      fill: #174EA6;\n",
              "    }\n",
              "\n",
              "    [theme=dark] .colab-df-convert {\n",
              "      background-color: #3B4455;\n",
              "      fill: #D2E3FC;\n",
              "    }\n",
              "\n",
              "    [theme=dark] .colab-df-convert:hover {\n",
              "      background-color: #434B5C;\n",
              "      box-shadow: 0px 1px 3px 1px rgba(0, 0, 0, 0.15);\n",
              "      filter: drop-shadow(0px 1px 2px rgba(0, 0, 0, 0.3));\n",
              "      fill: #FFFFFF;\n",
              "    }\n",
              "  </style>\n",
              "\n",
              "      <script>\n",
              "        const buttonEl =\n",
              "          document.querySelector('#df-76aa37ee-22e3-4f32-b8c3-52dc23749d63 button.colab-df-convert');\n",
              "        buttonEl.style.display =\n",
              "          google.colab.kernel.accessAllowed ? 'block' : 'none';\n",
              "\n",
              "        async function convertToInteractive(key) {\n",
              "          const element = document.querySelector('#df-76aa37ee-22e3-4f32-b8c3-52dc23749d63');\n",
              "          const dataTable =\n",
              "            await google.colab.kernel.invokeFunction('convertToInteractive',\n",
              "                                                     [key], {});\n",
              "          if (!dataTable) return;\n",
              "\n",
              "          const docLinkHtml = 'Like what you see? Visit the ' +\n",
              "            '<a target=\"_blank\" href=https://colab.research.google.com/notebooks/data_table.ipynb>data table notebook</a>'\n",
              "            + ' to learn more about interactive tables.';\n",
              "          element.innerHTML = '';\n",
              "          dataTable['output_type'] = 'display_data';\n",
              "          await google.colab.output.renderOutput(dataTable, element);\n",
              "          const docLink = document.createElement('div');\n",
              "          docLink.innerHTML = docLinkHtml;\n",
              "          element.appendChild(docLink);\n",
              "        }\n",
              "      </script>\n",
              "    </div>\n",
              "  </div>\n",
              "  "
            ]
          },
          "metadata": {},
          "execution_count": 72
        }
      ]
    },
    {
      "cell_type": "code",
      "source": [
        "df.shape\n"
      ],
      "metadata": {
        "colab": {
          "base_uri": "https://localhost:8080/"
        },
        "id": "PI1F2z6tuOZu",
        "outputId": "20d17458-f2c1-48de-9878-1a0ba0bd68fc"
      },
      "execution_count": 73,
      "outputs": [
        {
          "output_type": "execute_result",
          "data": {
            "text/plain": [
              "(10343, 2)"
            ]
          },
          "metadata": {},
          "execution_count": 73
        }
      ]
    },
    {
      "cell_type": "code",
      "source": [
        "num_ones = (df['Genre'] == 1).sum()\n",
        "num_non_ones = (df['Genre'] != 1).sum()\n",
        "print(f'Number of comedies: {num_ones}')\n",
        "print(f'Number of dramas: {num_non_ones}')\n",
        "print(num_ones/10343)"
      ],
      "metadata": {
        "colab": {
          "base_uri": "https://localhost:8080/"
        },
        "id": "_a_GoVZVxY56",
        "outputId": "a128144b-f899-42a3-dfa7-bcb4048c20bc"
      },
      "execution_count": 74,
      "outputs": [
        {
          "output_type": "stream",
          "name": "stdout",
          "text": [
            "Number of comedies: 4379\n",
            "Number of dramas: 5964\n",
            "0.4233781301363241\n"
          ]
        }
      ]
    },
    {
      "cell_type": "markdown",
      "source": [
        "#Graphs: 0 is drama, 1 is comedy."
      ],
      "metadata": {
        "id": "qWUfk-yd-Ng4"
      }
    },
    {
      "cell_type": "code",
      "source": [
        "import matplotlib.pyplot as plt\n",
        "# Group the data by Genre and count the number of occurrences\n",
        "sentiment_counts = df.groupby('Genre').size()\n",
        "\n",
        "# Create a pie chart of the sentiment distribution\n",
        "labels = [0, 1]\n",
        "colors = ['#FF6961', '#F5D469']\n",
        "plt.pie(sentiment_counts, labels=labels, colors=colors, autopct='%1.1f%%', startangle=90)\n",
        "plt.axis('equal')\n",
        "plt.title('Genre Distribution')\n",
        "plt.show()"
      ],
      "metadata": {
        "colab": {
          "base_uri": "https://localhost:8080/",
          "height": 428
        },
        "id": "O88Mc_e49G5f",
        "outputId": "3f0f02ce-6728-4d39-eb6e-4588701a83a5"
      },
      "execution_count": 75,
      "outputs": [
        {
          "output_type": "display_data",
          "data": {
            "text/plain": [
              "<Figure size 640x480 with 1 Axes>"
            ],
            "image/png": "[encoded data removed]"
          },
          "metadata": {}
        }
      ]
    },
    {
      "cell_type": "code",
      "source": [
        "sentiment_counts = df['Genre'].value_counts()\n",
        "\n",
        "fig, ax = plt.subplots()\n",
        "\n",
        "ax.barh(sentiment_counts.index, sentiment_counts.values, color=['#F5D469', '#FF6961'])\n",
        "\n",
        "ax.set_xlabel('Count')\n",
        "ax.set_ylabel('Sentiment')\n",
        "ax.set_title('Genre Distribution')\n",
        "\n",
        "plt.show()"
      ],
      "metadata": {
        "colab": {
          "base_uri": "https://localhost:8080/",
          "height": 472
        },
        "id": "-YbC0HHv9r4K",
        "outputId": "22c333f1-f72e-4e6a-fcea-d94c578845e0"
      },
      "execution_count": 76,
      "outputs": [
        {
          "output_type": "display_data",
          "data": {
            "text/plain": [
              "<Figure size 640x480 with 1 Axes>"
            ],
            "image/png": "[encoded data removed]"
          },
          "metadata": {}
        }
      ]
    },
    {
      "cell_type": "markdown",
      "source": [
        "#Vectorize and split the data\n",
        "We use min_df to limit the feature size set to only words that appear in atleast 20 different summaries. This cuts feature count from 200k down to 8k"
      ],
      "metadata": {
        "id": "UqbvhiDM4llW"
      }
    },
    {
      "cell_type": "code",
      "source": [
        "import tensorflow as tf\n",
        "\n",
        "from tensorflow.keras import datasets, layers, models"
      ],
      "metadata": {
        "id": "tMG1UTKC5pwZ"
      },
      "execution_count": 101,
      "outputs": []
    },
    {
      "cell_type": "code",
      "source": [
        "import nltk\n",
        "nltk.download('stopwords')\n",
        "from nltk.corpus import stopwords\n",
        "from sklearn.feature_extraction.text import TfidfVectorizer\n",
        "\n",
        "stopwords = (stopwords.words('english'))\n",
        "vectorizer = TfidfVectorizer(stop_words=stopwords, min_df = 20)"
      ],
      "metadata": {
        "colab": {
          "base_uri": "https://localhost:8080/"
        },
        "id": "eJt84tKL4oSz",
        "outputId": "90a5ea4a-942d-4ab1-df68-e862b82a4117"
      },
      "execution_count": 102,
      "outputs": [
        {
          "output_type": "stream",
          "name": "stderr",
          "text": [
            "[nltk_data] Downloading package stopwords to /root/nltk_data...\n",
            "[nltk_data]   Package stopwords is already up-to-date!\n"
          ]
        }
      ]
    },
    {
      "cell_type": "code",
      "source": [
        "from sklearn.model_selection import train_test_split\n",
        "\n",
        "# Split data into X and y\n",
        "X = df['Plot']\n",
        "y = df['Genre']\n",
        "\n",
        "# Split data into training and testing sets\n",
        "X_train, X_test, y_train, y_test = train_test_split(X, y, test_size=0.2, random_state=42)"
      ],
      "metadata": {
        "id": "OOQb163n5Rur"
      },
      "execution_count": 103,
      "outputs": []
    },
    {
      "cell_type": "code",
      "source": [
        "# apply tfidf vectorizer\n",
        "X_train = vectorizer.fit_transform(X_train).toarray()  # fit and transform the train data\n",
        "X_test = vectorizer.transform(X_test).toarray()        # transform only the test data"
      ],
      "metadata": {
        "id": "R8o128bW44To"
      },
      "execution_count": 104,
      "outputs": []
    },
    {
      "cell_type": "code",
      "source": [
        "X_test.shape\n"
      ],
      "metadata": {
        "colab": {
          "base_uri": "https://localhost:8080/"
        },
        "id": "aM-imtbN5AsT",
        "outputId": "f49e79a5-ba85-4c03-b90d-bc56857b6106"
      },
      "execution_count": 105,
      "outputs": [
        {
          "output_type": "execute_result",
          "data": {
            "text/plain": [
              "(2069, 7805)"
            ]
          },
          "metadata": {},
          "execution_count": 105
        }
      ]
    },
    {
      "cell_type": "markdown",
      "source": [
        "#Sequential Neural Network using TFIDF bag of words\n"
      ],
      "metadata": {
        "id": "tgQOwoJr7TFY"
      }
    },
    {
      "cell_type": "code",
      "source": [
        "# build the model\n",
        "from keras.layers import Dense, Dropout\n",
        "\n",
        "model = models.Sequential()\n",
        "model.add(Dense(64, activation='relu', input_dim=X_train.shape[1]))\n",
        "model.add(Dropout(0.5))\n",
        "model.add(Dense(32, activation='relu'))\n",
        "model.add(Dropout(0.5))\n",
        "model.add(Dense(1, activation='sigmoid'))"
      ],
      "metadata": {
        "id": "n1GOmTGYYXQe"
      },
      "execution_count": 107,
      "outputs": []
    },
    {
      "cell_type": "code",
      "source": [
        "# compile\n",
        "model.compile(optimizer='adam', loss='binary_crossentropy', metrics=['accuracy'])"
      ],
      "metadata": {
        "id": "_svpyH7XYrGF"
      },
      "execution_count": 111,
      "outputs": []
    },
    {
      "cell_type": "code",
      "source": [
        "# create a validation set\n",
        "x_val = X_train[:2000]\n",
        "partial_x_train = X_train[2000:]\n",
        "\n",
        "y_val = y_train[:2000]\n",
        "partial_y_train = y_train[2000:]\n",
        "\n",
        "type(x_val)"
      ],
      "metadata": {
        "colab": {
          "base_uri": "https://localhost:8080/"
        },
        "id": "ANdnKarLY8lC",
        "outputId": "45e5c12a-1456-4efa-974b-e594f18a27c9"
      },
      "execution_count": 133,
      "outputs": [
        {
          "output_type": "execute_result",
          "data": {
            "text/plain": [
              "numpy.ndarray"
            ]
          },
          "metadata": {},
          "execution_count": 133
        }
      ]
    },
    {
      "cell_type": "code",
      "source": [
        "# train\n",
        "\n",
        "history = model.fit(partial_x_train,\n",
        "                    partial_y_train,\n",
        "                    epochs=10,\n",
        "                    batch_size=512,\n",
        "                    validation_data=(x_val, y_val))"
      ],
      "metadata": {
        "colab": {
          "base_uri": "https://localhost:8080/"
        },
        "id": "TWuBB74DZDST",
        "outputId": "39d671a1-359a-4c85-880f-ec84a6da25d4"
      },
      "execution_count": 134,
      "outputs": [
        {
          "output_type": "stream",
          "name": "stdout",
          "text": [
            "Epoch 1/10\n",
            "13/13 [==============================] - 1s 106ms/step - loss: 0.0051 - accuracy: 0.9997 - val_loss: 0.0335 - val_accuracy: 0.9845\n",
            "Epoch 2/10\n",
            "13/13 [==============================] - 1s 81ms/step - loss: 0.0054 - accuracy: 0.9995 - val_loss: 0.0341 - val_accuracy: 0.9855\n",
            "Epoch 3/10\n",
            "13/13 [==============================] - 2s 127ms/step - loss: 0.0059 - accuracy: 0.9992 - val_loss: 0.0347 - val_accuracy: 0.9855\n",
            "Epoch 4/10\n",
            "13/13 [==============================] - 2s 133ms/step - loss: 0.0061 - accuracy: 0.9987 - val_loss: 0.0351 - val_accuracy: 0.9855\n",
            "Epoch 5/10\n",
            "13/13 [==============================] - 1s 102ms/step - loss: 0.0066 - accuracy: 0.9990 - val_loss: 0.0359 - val_accuracy: 0.9845\n",
            "Epoch 6/10\n",
            "13/13 [==============================] - 1s 110ms/step - loss: 0.0050 - accuracy: 0.9997 - val_loss: 0.0350 - val_accuracy: 0.9845\n",
            "Epoch 7/10\n",
            "13/13 [==============================] - 1s 48ms/step - loss: 0.0049 - accuracy: 0.9997 - val_loss: 0.0362 - val_accuracy: 0.9840\n",
            "Epoch 8/10\n",
            "13/13 [==============================] - 1s 47ms/step - loss: 0.0044 - accuracy: 0.9990 - val_loss: 0.0383 - val_accuracy: 0.9840\n",
            "Epoch 9/10\n",
            "13/13 [==============================] - 1s 47ms/step - loss: 0.0051 - accuracy: 0.9994 - val_loss: 0.0398 - val_accuracy: 0.9830\n",
            "Epoch 10/10\n",
            "13/13 [==============================] - 1s 48ms/step - loss: 0.0056 - accuracy: 0.9989 - val_loss: 0.0409 - val_accuracy: 0.9835\n"
          ]
        }
      ]
    },
    {
      "cell_type": "code",
      "source": [
        "# use sklearn evaluation\n",
        "\n",
        "from sklearn.metrics import classification_report\n",
        "\n",
        "pred = model.predict(X_test)\n",
        "pred = [1.0 if p>= 0.5 else 0.0 for p in pred]\n",
        "print(classification_report(y_test, pred))"
      ],
      "metadata": {
        "colab": {
          "base_uri": "https://localhost:8080/"
        },
        "id": "-yg0Mg52eEmH",
        "outputId": "271774c7-2e7a-4681-8e20-ad7551dbc14d"
      },
      "execution_count": 135,
      "outputs": [
        {
          "output_type": "stream",
          "name": "stdout",
          "text": [
            "65/65 [==============================] - 0s 3ms/step\n",
            "              precision    recall  f1-score   support\n",
            "\n",
            "           0       0.78      0.79      0.79      1194\n",
            "           1       0.71      0.70      0.71       875\n",
            "\n",
            "    accuracy                           0.75      2069\n",
            "   macro avg       0.75      0.75      0.75      2069\n",
            "weighted avg       0.75      0.75      0.75      2069\n",
            "\n"
          ]
        }
      ]
    },
    {
      "cell_type": "code",
      "source": [
        "# use tf evaluation method\n",
        "\n",
        "losses_and_metrics = model.evaluate(X_test, y_test, batch_size=128)\n",
        "losses_and_metrics"
      ],
      "metadata": {
        "colab": {
          "base_uri": "https://localhost:8080/"
        },
        "id": "9Nr45fEweSVb",
        "outputId": "1c2df5dc-6ac6-47f5-ab51-42e72e61b79d"
      },
      "execution_count": 136,
      "outputs": [
        {
          "output_type": "stream",
          "name": "stdout",
          "text": [
            "17/17 [==============================] - 0s 6ms/step - loss: 1.5024 - accuracy: 0.7545\n"
          ]
        },
        {
          "output_type": "execute_result",
          "data": {
            "text/plain": [
              "[1.5023869276046753, 0.7544707655906677]"
            ]
          },
          "metadata": {},
          "execution_count": 136
        }
      ]
    },
    {
      "cell_type": "code",
      "source": [
        "# to extract predictions, use this code\n",
        "\n",
        "classes = model.predict(X_test, batch_size=128)\n",
        "classes[:5]"
      ],
      "metadata": {
        "colab": {
          "base_uri": "https://localhost:8080/"
        },
        "id": "Z0H6twwjecXI",
        "outputId": "e6627d36-5661-43a0-9aaf-0d9c58e248a2"
      },
      "execution_count": 137,
      "outputs": [
        {
          "output_type": "stream",
          "name": "stdout",
          "text": [
            "17/17 [==============================] - 0s 10ms/step\n"
          ]
        },
        {
          "output_type": "execute_result",
          "data": {
            "text/plain": [
              "array([[4.1939300e-01],\n",
              "       [8.8804700e-07],\n",
              "       [9.9995953e-01],\n",
              "       [2.6709367e-08],\n",
              "       [9.7224144e-03]], dtype=float32)"
            ]
          },
          "metadata": {},
          "execution_count": 137
        }
      ]
    },
    {
      "cell_type": "code",
      "source": [
        "# plot the training and validation loss\n",
        "import matplotlib.pyplot as plt\n",
        "\n",
        "loss = history.history['loss']\n",
        "val_loss = history.history['val_loss']\n",
        "epochs = range(1, len(loss)+1)\n",
        "\n",
        "plt.plot(epochs, loss, 'bo', label='Training loss')\n",
        "plt.plot(epochs, val_loss, 'b', label='Validation loss')\n",
        "plt.title('Training and validation loss')\n",
        "plt.xlabel('Epochs')\n",
        "plt.ylabel('Loss')\n",
        "plt.legend()\n",
        "\n",
        "plt.show()"
      ],
      "metadata": {
        "colab": {
          "base_uri": "https://localhost:8080/",
          "height": 472
        },
        "id": "JE3Jva8oegnC",
        "outputId": "e2036cde-2f33-404a-f7b0-374029abe5e0"
      },
      "execution_count": 139,
      "outputs": [
        {
          "output_type": "display_data",
          "data": {
            "text/plain": [
              "<Figure size 640x480 with 1 Axes>"
            ],
            "image/png": "[encoded data removed]"
          },
          "metadata": {}
        }
      ]
    },
    {
      "cell_type": "code",
      "source": [
        "# plot the training and validation accuracy\n",
        "\n",
        "plt.clf()   # clear\n",
        "\n",
        "acc = history.history['accuracy']\n",
        "val_acc = history.history['val_accuracy']\n",
        "\n",
        "plt.plot(epochs, acc, 'bo', label='Training acc')\n",
        "plt.plot(epochs, val_acc, 'b', label='Validation acc')\n",
        "plt.title('Training and validation accuracy')\n",
        "plt.xlabel('Epochs')\n",
        "plt.ylabel('Accuracy')\n",
        "plt.legend()\n",
        "\n",
        "plt.show()"
      ],
      "metadata": {
        "colab": {
          "base_uri": "https://localhost:8080/",
          "height": 472
        },
        "id": "xW7OAfALexOb",
        "outputId": "245178ce-c0c3-4a52-ce56-e8318b2d3eb3"
      },
      "execution_count": 140,
      "outputs": [
        {
          "output_type": "display_data",
          "data": {
            "text/plain": [
              "<Figure size 640x480 with 1 Axes>"
            ],
            "image/png": "[encoded data removed]"
          },
          "metadata": {}
        }
      ]
    },
    {
      "cell_type": "code",
      "source": [
        "from tensorflow.keras.callbacks import EarlyStopping\n",
        "\n",
        "early_stopping = EarlyStopping(\n",
        "    min_delta=0.001, # min change in metrics\n",
        "    patience=4,     # min epochs \n",
        "    restore_best_weights=True,\n",
        ")"
      ],
      "metadata": {
        "id": "qD9X9y8CfmeT"
      },
      "execution_count": 142,
      "outputs": []
    },
    {
      "cell_type": "code",
      "source": [
        "# fit the model again with early stopping\n",
        "\n",
        "model.fit(X_train, y_train, callbacks=[early_stopping], batch_size=512)\n",
        "results = model.evaluate(X_test, y_test)"
      ],
      "metadata": {
        "colab": {
          "base_uri": "https://localhost:8080/"
        },
        "id": "CJ3PjaOQftpV",
        "outputId": "995a2b18-9b28-4002-89c2-1d85bea248e1"
      },
      "execution_count": 143,
      "outputs": [
        {
          "output_type": "stream",
          "name": "stdout",
          "text": [
            "16/17 [===========================>..] - ETA: 0s - loss: 0.0213 - accuracy: 0.9938"
          ]
        },
        {
          "output_type": "stream",
          "name": "stderr",
          "text": [
            "WARNING:tensorflow:Early stopping conditioned on metric `val_loss` which is not available. Available metrics are: loss,accuracy\n"
          ]
        },
        {
          "output_type": "stream",
          "name": "stdout",
          "text": [
            "17/17 [==============================] - 1s 44ms/step - loss: 0.0212 - accuracy: 0.9938\n",
            "65/65 [==============================] - 0s 5ms/step - loss: 1.4204 - accuracy: 0.7545\n"
          ]
        }
      ]
    },
    {
      "cell_type": "code",
      "source": [
        "# model.evaluate() results give the loss and metrics (accuracy in this example)\n",
        "results"
      ],
      "metadata": {
        "colab": {
          "base_uri": "https://localhost:8080/"
        },
        "id": "bA8lStUtf6FG",
        "outputId": "e23b871b-2274-4dc1-b200-d9a42e2a9fcd"
      },
      "execution_count": 144,
      "outputs": [
        {
          "output_type": "execute_result",
          "data": {
            "text/plain": [
              "[1.4204189777374268, 0.7544707655906677]"
            ]
          },
          "metadata": {},
          "execution_count": 144
        }
      ]
    },
    {
      "cell_type": "code",
      "source": [
        "pred = model.predict(X_test)\n",
        "pred = [1.0 if p>= 0.5 else 0.0 for p in pred]\n",
        "print(classification_report(y_test, pred))"
      ],
      "metadata": {
        "colab": {
          "base_uri": "https://localhost:8080/"
        },
        "id": "yyNCPWRbgAmW",
        "outputId": "9e3dc393-c15a-400b-a8bd-7fd6ad5dcc83"
      },
      "execution_count": 146,
      "outputs": [
        {
          "output_type": "stream",
          "name": "stdout",
          "text": [
            "65/65 [==============================] - 0s 5ms/step\n",
            "              precision    recall  f1-score   support\n",
            "\n",
            "           0       0.80      0.77      0.78      1194\n",
            "           1       0.70      0.73      0.72       875\n",
            "\n",
            "    accuracy                           0.75      2069\n",
            "   macro avg       0.75      0.75      0.75      2069\n",
            "weighted avg       0.76      0.75      0.76      2069\n",
            "\n"
          ]
        }
      ]
    },
    {
      "cell_type": "code",
      "source": [
        "# check the pos/neg distribution\n",
        "# the set is 50/50\n",
        "\n",
        "pos = sum(y_test[y_test>0]) / len(y_test)\n",
        "pos"
      ],
      "metadata": {
        "colab": {
          "base_uri": "https://localhost:8080/"
        },
        "id": "QaFQYzFCgKe0",
        "outputId": "94c4e378-437b-4d10-d3ad-29d7b4b62cfc"
      },
      "execution_count": 147,
      "outputs": [
        {
          "output_type": "execute_result",
          "data": {
            "text/plain": [
              "0.42290961817303047"
            ]
          },
          "metadata": {},
          "execution_count": 147
        }
      ]
    },
    {
      "cell_type": "markdown",
      "source": [
        "#Recurrent Neural Network using Keras embedding"
      ],
      "metadata": {
        "id": "7b8mNdkLgimh"
      }
    },
    {
      "cell_type": "code",
      "source": [
        "# build the model\n",
        "\n",
        "model = models.Sequential()\n",
        "model.add(layers.Embedding(3000, 32))\n",
        "model.add(layers.SimpleRNN(32))\n",
        "model.add(layers.Dense(1, activation='sigmoid'))"
      ],
      "metadata": {
        "id": "VzOBTP8Zgimk"
      },
      "execution_count": 165,
      "outputs": []
    },
    {
      "cell_type": "code",
      "source": [
        "# compile\n",
        "model.compile(optimizer='rmsprop',\n",
        "              loss='binary_crossentropy',\n",
        "              metrics=['accuracy'])"
      ],
      "metadata": {
        "id": "F74znYAggimk"
      },
      "execution_count": 166,
      "outputs": []
    },
    {
      "cell_type": "code",
      "source": [
        "# Split data into X and y\n",
        "X = df['Plot']\n",
        "y = df['Genre']\n"
      ],
      "metadata": {
        "id": "kexIUp8eioNQ"
      },
      "execution_count": 167,
      "outputs": []
    },
    {
      "cell_type": "code",
      "source": [
        "from tensorflow.keras.preprocessing.text import Tokenizer\n",
        "from tensorflow.keras.preprocessing.sequence import pad_sequences\n",
        "\n",
        "maxlen = 1000 # maximum length of sequences\n",
        "max_words = 3000 # maximum number of words in the vocabulary\n",
        "\n",
        "tokenizer = Tokenizer(num_words=max_words)\n",
        "tokenizer.fit_on_texts(X) # texts is your array of strings\n",
        "\n",
        "sequences = tokenizer.texts_to_sequences(X) # convert texts to sequences\n",
        "train_data = pad_sequences(sequences, maxlen=maxlen) # pad sequences to have the same length\n",
        "X_train, X_test, y_train, y_test = train_test_split(train_data, y, test_size=0.2, random_state=42)"
      ],
      "metadata": {
        "id": "HqTTWT7IjRI0"
      },
      "execution_count": 168,
      "outputs": []
    },
    {
      "cell_type": "code",
      "source": [
        "history = model.fit(X_train,\n",
        "                    y_train,\n",
        "                    epochs=5,\n",
        "                    batch_size=128,\n",
        "                    validation_split=0.2)"
      ],
      "metadata": {
        "colab": {
          "base_uri": "https://localhost:8080/"
        },
        "outputId": "dabf278c-9b8a-4374-b95b-7c50b6d8a814",
        "id": "ghnPE8nfgimk"
      },
      "execution_count": 170,
      "outputs": [
        {
          "output_type": "stream",
          "name": "stdout",
          "text": [
            "Epoch 1/5\n",
            "52/52 [==============================] - 20s 380ms/step - loss: 0.5922 - accuracy: 0.6737 - val_loss: 0.7424 - val_accuracy: 0.6248\n",
            "Epoch 2/5\n",
            "52/52 [==============================] - 19s 365ms/step - loss: 0.4546 - accuracy: 0.7811 - val_loss: 0.6694 - val_accuracy: 0.6689\n",
            "Epoch 3/5\n",
            "52/52 [==============================] - 20s 389ms/step - loss: 0.2958 - accuracy: 0.8806 - val_loss: 0.6962 - val_accuracy: 0.6580\n",
            "Epoch 4/5\n",
            "52/52 [==============================] - 19s 364ms/step - loss: 0.2005 - accuracy: 0.9394 - val_loss: 0.7380 - val_accuracy: 0.6483\n",
            "Epoch 5/5\n",
            "52/52 [==============================] - 20s 388ms/step - loss: 0.1240 - accuracy: 0.9725 - val_loss: 0.8118 - val_accuracy: 0.6447\n"
          ]
        }
      ]
    },
    {
      "cell_type": "code",
      "source": [
        "pred = model.predict(X_test)\n",
        "pred = [1.0 if p>= 0.5 else 0.0 for p in pred]\n",
        "print(classification_report(y_test, pred))"
      ],
      "metadata": {
        "colab": {
          "base_uri": "https://localhost:8080/"
        },
        "outputId": "4d4f98f9-4b4c-4d8f-a526-945f3fdcd620",
        "id": "omU3bX-9giml"
      },
      "execution_count": 172,
      "outputs": [
        {
          "output_type": "stream",
          "name": "stdout",
          "text": [
            "65/65 [==============================] - 7s 97ms/step\n",
            "              precision    recall  f1-score   support\n",
            "\n",
            "           0       0.69      0.81      0.74      1194\n",
            "           1       0.65      0.50      0.57       875\n",
            "\n",
            "    accuracy                           0.68      2069\n",
            "   macro avg       0.67      0.65      0.65      2069\n",
            "weighted avg       0.67      0.68      0.67      2069\n",
            "\n"
          ]
        }
      ]
    },
    {
      "cell_type": "code",
      "source": [
        "# use tf evaluation method\n",
        "\n",
        "losses_and_metrics = model.evaluate(X_test, y_test, batch_size=128)\n",
        "losses_and_metrics"
      ],
      "metadata": {
        "colab": {
          "base_uri": "https://localhost:8080/"
        },
        "outputId": "0a7e3f70-a02b-4f10-b24f-a34699417851",
        "id": "nBKFCtrDgiml"
      },
      "execution_count": 173,
      "outputs": [
        {
          "output_type": "stream",
          "name": "stdout",
          "text": [
            "17/17 [==============================] - 1s 71ms/step - loss: 0.7540 - accuracy: 0.6767\n"
          ]
        },
        {
          "output_type": "execute_result",
          "data": {
            "text/plain": [
              "[0.753950297832489, 0.6766554117202759]"
            ]
          },
          "metadata": {},
          "execution_count": 173
        }
      ]
    },
    {
      "cell_type": "code",
      "source": [
        "# to extract predictions, use this code\n",
        "\n",
        "classes = model.predict(X_test, batch_size=128)\n",
        "classes[:5]"
      ],
      "metadata": {
        "colab": {
          "base_uri": "https://localhost:8080/"
        },
        "outputId": "df6f3e1a-25af-47ff-b683-690e1767d55e",
        "id": "LGTJwCPhgiml"
      },
      "execution_count": 174,
      "outputs": [
        {
          "output_type": "stream",
          "name": "stdout",
          "text": [
            "17/17 [==============================] - 1s 76ms/step\n"
          ]
        },
        {
          "output_type": "execute_result",
          "data": {
            "text/plain": [
              "array([[0.8675869 ],\n",
              "       [0.04675532],\n",
              "       [0.75008315],\n",
              "       [0.07404325],\n",
              "       [0.2773489 ]], dtype=float32)"
            ]
          },
          "metadata": {},
          "execution_count": 174
        }
      ]
    },
    {
      "cell_type": "code",
      "source": [
        "# plot the training and validation loss\n",
        "import matplotlib.pyplot as plt\n",
        "\n",
        "loss = history.history['loss']\n",
        "val_loss = history.history['val_loss']\n",
        "epochs = range(1, len(loss)+1)\n",
        "\n",
        "plt.plot(epochs, loss, 'bo', label='Training loss')\n",
        "plt.plot(epochs, val_loss, 'b', label='Validation loss')\n",
        "plt.title('Training and validation loss')\n",
        "plt.xlabel('Epochs')\n",
        "plt.ylabel('Loss')\n",
        "plt.legend()\n",
        "\n",
        "plt.show()"
      ],
      "metadata": {
        "colab": {
          "base_uri": "https://localhost:8080/",
          "height": 472
        },
        "outputId": "d0cb52c4-a4bf-4197-a61a-0b937b69bfc2",
        "id": "8-PuhXARgiml"
      },
      "execution_count": 175,
      "outputs": [
        {
          "output_type": "display_data",
          "data": {
            "text/plain": [
              "<Figure size 640x480 with 1 Axes>"
            ],
            "image/png": "[encoded data removed]"
          },
          "metadata": {}
        }
      ]
    },
    {
      "cell_type": "code",
      "source": [
        "# plot the training and validation accuracy\n",
        "\n",
        "plt.clf()   # clear\n",
        "\n",
        "acc = history.history['accuracy']\n",
        "val_acc = history.history['val_accuracy']\n",
        "\n",
        "plt.plot(epochs, acc, 'bo', label='Training acc')\n",
        "plt.plot(epochs, val_acc, 'b', label='Validation acc')\n",
        "plt.title('Training and validation accuracy')\n",
        "plt.xlabel('Epochs')\n",
        "plt.ylabel('Accuracy')\n",
        "plt.legend()\n",
        "\n",
        "plt.show()"
      ],
      "metadata": {
        "colab": {
          "base_uri": "https://localhost:8080/",
          "height": 472
        },
        "outputId": "0925d675-e869-479a-9687-624377592420",
        "id": "oAqx7AJigiml"
      },
      "execution_count": 176,
      "outputs": [
        {
          "output_type": "display_data",
          "data": {
            "text/plain": [
              "<Figure size 640x480 with 1 Axes>"
            ],
            "image/png": "[encoded data removed]"
          },
          "metadata": {}
        }
      ]
    },
    {
      "cell_type": "code",
      "source": [
        "from tensorflow.keras.callbacks import EarlyStopping\n",
        "\n",
        "early_stopping = EarlyStopping(\n",
        "    min_delta=0.001, # min change in metrics\n",
        "    patience=4,     # min epochs \n",
        "    restore_best_weights=True,\n",
        ")"
      ],
      "metadata": {
        "id": "dLIjokZEgiml"
      },
      "execution_count": 177,
      "outputs": []
    },
    {
      "cell_type": "code",
      "source": [
        "# fit the model again with early stopping\n",
        "\n",
        "model.fit(X_train, y_train, callbacks=[early_stopping], batch_size=512)\n",
        "results = model.evaluate(X_test, y_test)"
      ],
      "metadata": {
        "colab": {
          "base_uri": "https://localhost:8080/"
        },
        "outputId": "48c7867e-b353-4fae-e443-057e5fcfd38b",
        "id": "VbKJaoM1giml"
      },
      "execution_count": 178,
      "outputs": [
        {
          "output_type": "stream",
          "name": "stdout",
          "text": [
            "17/17 [==============================] - ETA: 0s - loss: 0.2277 - accuracy: 0.9204"
          ]
        },
        {
          "output_type": "stream",
          "name": "stderr",
          "text": [
            "WARNING:tensorflow:Early stopping conditioned on metric `val_loss` which is not available. Available metrics are: loss,accuracy\n"
          ]
        },
        {
          "output_type": "stream",
          "name": "stdout",
          "text": [
            "17/17 [==============================] - 14s 776ms/step - loss: 0.2277 - accuracy: 0.9204\n",
            "65/65 [==============================] - 3s 49ms/step - loss: 0.7897 - accuracy: 0.6559\n"
          ]
        }
      ]
    },
    {
      "cell_type": "code",
      "source": [
        "# model.evaluate() results give the loss and metrics (accuracy in this example)\n",
        "results"
      ],
      "metadata": {
        "colab": {
          "base_uri": "https://localhost:8080/"
        },
        "outputId": "13b8a550-e4cc-48da-9ec0-91b7c5463c0e",
        "id": "mVBubJK1giml"
      },
      "execution_count": 179,
      "outputs": [
        {
          "output_type": "execute_result",
          "data": {
            "text/plain": [
              "[0.7896972894668579, 0.6558724045753479]"
            ]
          },
          "metadata": {},
          "execution_count": 179
        }
      ]
    },
    {
      "cell_type": "code",
      "source": [
        "pred = model.predict(X_test)\n",
        "pred = [1.0 if p>= 0.5 else 0.0 for p in pred]\n",
        "print(classification_report(y_test, pred))"
      ],
      "metadata": {
        "colab": {
          "base_uri": "https://localhost:8080/"
        },
        "outputId": "c182ccc2-3212-47f1-ecf7-2b7612bf92ee",
        "id": "1bh0VGrygiml"
      },
      "execution_count": 180,
      "outputs": [
        {
          "output_type": "stream",
          "name": "stdout",
          "text": [
            "65/65 [==============================] - 5s 71ms/step\n",
            "              precision    recall  f1-score   support\n",
            "\n",
            "           0       0.66      0.81      0.73      1194\n",
            "           1       0.63      0.44      0.52       875\n",
            "\n",
            "    accuracy                           0.66      2069\n",
            "   macro avg       0.65      0.63      0.63      2069\n",
            "weighted avg       0.65      0.66      0.64      2069\n",
            "\n"
          ]
        }
      ]
    },
    {
      "cell_type": "code",
      "source": [
        "# check the pos/neg distribution\n",
        "# the set is 50/50\n",
        "\n",
        "pos = sum(y_test[y_test>0]) / len(y_test)\n",
        "pos"
      ],
      "metadata": {
        "colab": {
          "base_uri": "https://localhost:8080/"
        },
        "outputId": "837a40b0-08f4-4ef8-fd1e-4e788a7332e3",
        "id": "ldonVuYpgiml"
      },
      "execution_count": 181,
      "outputs": [
        {
          "output_type": "execute_result",
          "data": {
            "text/plain": [
              "0.42290961817303047"
            ]
          },
          "metadata": {},
          "execution_count": 181
        }
      ]
    },
    {
      "cell_type": "markdown",
      "source": [
        "#Convolutional Neural Network using Keras embedding"
      ],
      "metadata": {
        "id": "F5UrkM0vovhJ"
      }
    },
    {
      "cell_type": "code",
      "source": [
        "# build a Sequential model 1D convnet\n",
        "\n",
        "model = models.Sequential()\n",
        "model.add(layers.Embedding(max_features, 128, input_length=maxlen)) \n",
        "model.add(layers.Conv1D(32, 7, activation='relu')) \n",
        "model.add(layers.MaxPooling1D(5)) \n",
        "model.add(layers.Conv1D(32, 7, activation='relu')) \n",
        "model.add(layers.GlobalMaxPooling1D())\n",
        "model.add(layers.Dense(1))"
      ],
      "metadata": {
        "id": "eNEoZ6pxovhN"
      },
      "execution_count": 182,
      "outputs": []
    },
    {
      "cell_type": "code",
      "source": [
        "# compile\n",
        "model.compile(optimizer='rmsprop',\n",
        "              loss='binary_crossentropy',\n",
        "              metrics=['accuracy'])"
      ],
      "metadata": {
        "id": "MlOncyYBovhN"
      },
      "execution_count": 183,
      "outputs": []
    },
    {
      "cell_type": "code",
      "source": [
        "# Split data into X and y\n",
        "X = df['Plot']\n",
        "y = df['Genre']\n"
      ],
      "metadata": {
        "id": "_sWw1Jq1ovhN"
      },
      "execution_count": 184,
      "outputs": []
    },
    {
      "cell_type": "code",
      "source": [
        "from tensorflow.keras.preprocessing.text import Tokenizer\n",
        "from tensorflow.keras.preprocessing.sequence import pad_sequences\n",
        "\n",
        "maxlen = 1000 # maximum length of sequences\n",
        "max_words = 3000 # maximum number of words in the vocabulary\n",
        "\n",
        "tokenizer = Tokenizer(num_words=max_words)\n",
        "tokenizer.fit_on_texts(X) # texts is your array of strings\n",
        "\n",
        "sequences = tokenizer.texts_to_sequences(X) # convert texts to sequences\n",
        "train_data = pad_sequences(sequences, maxlen=maxlen) # pad sequences to have the same length\n",
        "X_train, X_test, y_train, y_test = train_test_split(train_data, y, test_size=0.2, random_state=42)"
      ],
      "metadata": {
        "id": "9hsbmBjIovhN"
      },
      "execution_count": 185,
      "outputs": []
    },
    {
      "cell_type": "code",
      "source": [
        "history = model.fit(X_train,\n",
        "                    y_train,\n",
        "                    epochs=5,\n",
        "                    batch_size=128,\n",
        "                    validation_split=0.2)"
      ],
      "metadata": {
        "colab": {
          "base_uri": "https://localhost:8080/"
        },
        "outputId": "7b778164-c730-4214-be34-feb3fef9d472",
        "id": "38dfnn-qovhN"
      },
      "execution_count": 186,
      "outputs": [
        {
          "output_type": "stream",
          "name": "stdout",
          "text": [
            "Epoch 1/5\n",
            "52/52 [==============================] - 57s 1s/step - loss: 0.6874 - accuracy: 0.5785 - val_loss: 0.6728 - val_accuracy: 0.5698\n",
            "Epoch 2/5\n",
            "52/52 [==============================] - 58s 1s/step - loss: 0.5999 - accuracy: 0.6782 - val_loss: 0.7828 - val_accuracy: 0.5764\n",
            "Epoch 3/5\n",
            "52/52 [==============================] - 55s 1s/step - loss: 0.4921 - accuracy: 0.7879 - val_loss: 0.6023 - val_accuracy: 0.7015\n",
            "Epoch 4/5\n",
            "52/52 [==============================] - 55s 1s/step - loss: 0.3981 - accuracy: 0.8445 - val_loss: 0.6183 - val_accuracy: 0.7287\n",
            "Epoch 5/5\n",
            "52/52 [==============================] - 58s 1s/step - loss: 0.3084 - accuracy: 0.8939 - val_loss: 0.7035 - val_accuracy: 0.7227\n"
          ]
        }
      ]
    },
    {
      "cell_type": "code",
      "source": [
        "pred = model.predict(X_test)\n",
        "pred = [1.0 if p>= 0.5 else 0.0 for p in pred]\n",
        "print(classification_report(y_test, pred))"
      ],
      "metadata": {
        "colab": {
          "base_uri": "https://localhost:8080/"
        },
        "outputId": "b657325a-c330-4ad0-d840-5a4f63cc8716",
        "id": "YmCv_39PovhN"
      },
      "execution_count": 187,
      "outputs": [
        {
          "output_type": "stream",
          "name": "stdout",
          "text": [
            "65/65 [==============================] - 5s 74ms/step\n",
            "              precision    recall  f1-score   support\n",
            "\n",
            "           0       0.78      0.75      0.77      1194\n",
            "           1       0.68      0.72      0.70       875\n",
            "\n",
            "    accuracy                           0.74      2069\n",
            "   macro avg       0.73      0.73      0.73      2069\n",
            "weighted avg       0.74      0.74      0.74      2069\n",
            "\n"
          ]
        }
      ]
    },
    {
      "cell_type": "code",
      "source": [
        "# use tf evaluation method\n",
        "\n",
        "losses_and_metrics = model.evaluate(X_test, y_test, batch_size=128)\n",
        "losses_and_metrics"
      ],
      "metadata": {
        "colab": {
          "base_uri": "https://localhost:8080/"
        },
        "outputId": "040d6fc0-05a4-4744-d24d-d579d983547f",
        "id": "poZLx9tQovhO"
      },
      "execution_count": 188,
      "outputs": [
        {
          "output_type": "stream",
          "name": "stdout",
          "text": [
            "17/17 [==============================] - 3s 195ms/step - loss: 0.6454 - accuracy: 0.7351\n"
          ]
        },
        {
          "output_type": "execute_result",
          "data": {
            "text/plain": [
              "[0.6453810334205627, 0.7351377606391907]"
            ]
          },
          "metadata": {},
          "execution_count": 188
        }
      ]
    },
    {
      "cell_type": "code",
      "source": [
        "# to extract predictions, use this code\n",
        "\n",
        "classes = model.predict(X_test, batch_size=128)\n",
        "classes[:5]"
      ],
      "metadata": {
        "colab": {
          "base_uri": "https://localhost:8080/"
        },
        "outputId": "2bb90cf1-ab00-4eba-a661-603df5703ec5",
        "id": "F-1uFMaRovhO"
      },
      "execution_count": 189,
      "outputs": [
        {
          "output_type": "stream",
          "name": "stdout",
          "text": [
            "17/17 [==============================] - 5s 278ms/step\n"
          ]
        },
        {
          "output_type": "execute_result",
          "data": {
            "text/plain": [
              "array([[0.32836944],\n",
              "       [0.05604642],\n",
              "       [0.9919017 ],\n",
              "       [0.13305807],\n",
              "       [0.70219874]], dtype=float32)"
            ]
          },
          "metadata": {},
          "execution_count": 189
        }
      ]
    },
    {
      "cell_type": "code",
      "source": [
        "# plot the training and validation loss\n",
        "import matplotlib.pyplot as plt\n",
        "\n",
        "loss = history.history['loss']\n",
        "val_loss = history.history['val_loss']\n",
        "epochs = range(1, len(loss)+1)\n",
        "\n",
        "plt.plot(epochs, loss, 'bo', label='Training loss')\n",
        "plt.plot(epochs, val_loss, 'b', label='Validation loss')\n",
        "plt.title('Training and validation loss')\n",
        "plt.xlabel('Epochs')\n",
        "plt.ylabel('Loss')\n",
        "plt.legend()\n",
        "\n",
        "plt.show()"
      ],
      "metadata": {
        "colab": {
          "base_uri": "https://localhost:8080/",
          "height": 472
        },
        "outputId": "3745848a-559b-4fe0-bd04-a48ca3411eaf",
        "id": "EFYUWIuRovhO"
      },
      "execution_count": 190,
      "outputs": [
        {
          "output_type": "display_data",
          "data": {
            "text/plain": [
              "<Figure size 640x480 with 1 Axes>"
            ],
            "image/png": "[encoded data removed]"
          },
          "metadata": {}
        }
      ]
    },
    {
      "cell_type": "code",
      "source": [
        "# plot the training and validation accuracy\n",
        "\n",
        "plt.clf()   # clear\n",
        "\n",
        "acc = history.history['accuracy']\n",
        "val_acc = history.history['val_accuracy']\n",
        "\n",
        "plt.plot(epochs, acc, 'bo', label='Training acc')\n",
        "plt.plot(epochs, val_acc, 'b', label='Validation acc')\n",
        "plt.title('Training and validation accuracy')\n",
        "plt.xlabel('Epochs')\n",
        "plt.ylabel('Accuracy')\n",
        "plt.legend()\n",
        "\n",
        "plt.show()"
      ],
      "metadata": {
        "colab": {
          "base_uri": "https://localhost:8080/",
          "height": 472
        },
        "outputId": "2695e639-3bc9-4db2-b595-9cf3df618310",
        "id": "kL1pt1-kovhO"
      },
      "execution_count": 191,
      "outputs": [
        {
          "output_type": "display_data",
          "data": {
            "text/plain": [
              "<Figure size 640x480 with 1 Axes>"
            ],
            "image/png": "[encoded data removed]"
          },
          "metadata": {}
        }
      ]
    },
    {
      "cell_type": "markdown",
      "source": [
        "#Results\n",
        "There were some interesting results. my initial guess was that recurrent neural network would be the most successful- and perhaps it would have, but I made certain concessions in order to make the program to run quickly.\n",
        "\n",
        "one of the reasons I think RNN failed so badly was that i limited the vocabulary size in the vectorizer to 3000 so i wouldn't be waiting hours for the networks to train.\n",
        "\n",
        "The general performance in this assignemnt is as follows:\n",
        "\n",
        "Bag of Words simple NN and CNN both got 75% ish accuracy,\n",
        "RNN only got ~65%.\n",
        "\n",
        "The expected accuracy would have been about 55% for a naive guess. \n",
        "\n",
        "RNN and CNN took considerably longer to run then the CNN, and thus I used fewer epochs.\n",
        "\n",
        "I can see why LLMs require so many computational resources now.\n",
        "Overfitting definitely seemed to be an issue- my training data size was ~10k large, so perhaps it was too small?\n",
        "\n",
        "Either way, the system seems to work, but for this application a bag of words is probably plenty."
      ],
      "metadata": {
        "id": "43sr1zB_wcga"
      }
    },
    {
      "cell_type": "code",
      "source": [],
      "metadata": {
        "id": "LRj8ZwzWwxO2"
      },
      "execution_count": 191,
      "outputs": []
    }
  ],
  "metadata": {
    "kernelspec": {
      "display_name": "Python 3",
      "language": "python",
      "name": "python3"
    },
    "language_info": {
      "codemirror_mode": {
        "name": "ipython",
        "version": 3
      },
      "file_extension": ".py",
      "mimetype": "text/x-python",
      "name": "python",
      "nbconvert_exporter": "python",
      "pygments_lexer": "ipython3",
      "version": "3.8.2"
    },
    "colab": {
      "provenance": []
    }
  },
  "nbformat": 4,
  "nbformat_minor": 0
}